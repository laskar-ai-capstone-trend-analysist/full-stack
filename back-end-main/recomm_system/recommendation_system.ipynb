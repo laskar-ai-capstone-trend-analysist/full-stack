{
 "cells": [
  {
   "cell_type": "markdown",
   "id": "ad744265",
   "metadata": {},
   "source": [
    "# Import Libraries"
   ]
  },
  {
   "cell_type": "code",
   "execution_count": 74,
   "id": "32d8c998",
   "metadata": {},
   "outputs": [],
   "source": [
    "import pandas as pd\n",
    "import json\n",
    "import requests\n",
    "from sklearn.feature_extraction.text import TfidfVectorizer\n",
    "from sklearn.preprocessing import MinMaxScaler\n",
    "from sklearn.metrics.pairwise import cosine_similarity\n",
    "\n",
    "from text_preprocessing import preprocess_text"
   ]
  },
  {
   "cell_type": "markdown",
   "id": "f7c0ebfb",
   "metadata": {},
   "source": [
    "# API Usage"
   ]
  },
  {
   "cell_type": "code",
   "execution_count": 75,
   "id": "e35593c0",
   "metadata": {},
   "outputs": [],
   "source": [
    "# Base URL of your Flask server\n",
    "BASE_URL = \"http://127.0.0.1:5000\"\n",
    "\n",
    "# Example 1: Hello world\n",
    "res = requests.get(f\"{BASE_URL}/\")\n",
    "# print(res.text)\n",
    "\n",
    "# Example 2: Get all products\n",
    "res = requests.get(f\"{BASE_URL}/getAllProduct\")\n",
    "# print(res.json())\n",
    "\n",
    "# Example 3: Get all categories\n",
    "res = requests.get(f\"{BASE_URL}/getAllCategory\")\n",
    "# print(res.json())\n",
    "\n",
    "# Example 4: Get all reviews\n",
    "res = requests.get(f\"{BASE_URL}/getAllReview\")\n",
    "# print(res.json())\n",
    "\n",
    "# Example 5: Get products by category\n",
    "category_id = \"1\"  # Replace with actual category ID\n",
    "res = requests.get(f\"{BASE_URL}/getAllProductByCategory\", params={\"category\": category_id})\n",
    "# print(res.json())\n",
    "\n",
    "# Example 6: Get reviews by product\n",
    "product_id = \"4\"  # Replace with actual product ID\n",
    "res = requests.get(f\"{BASE_URL}/getAllReviewByProduct\", params={\"product\": product_id})\n",
    "# print(res.json())\n",
    "\n",
    "# Example 7: Get reviews by category\n",
    "res = requests.get(f\"{BASE_URL}/getAllReviewByCategory\", params={\"category\": category_id})\n",
    "# print(res.json())\n"
   ]
  },
  {
   "cell_type": "markdown",
   "id": "2f8f9332",
   "metadata": {},
   "source": [
    "## In this example, categoryID 1 is utilized"
   ]
  },
  {
   "cell_type": "code",
   "execution_count": 76,
   "id": "7079b4fa",
   "metadata": {},
   "outputs": [
    {
     "name": "stdout",
     "output_type": "stream",
     "text": [
      "73\n"
     ]
    }
   ],
   "source": [
    "category_id = \"1\"  # Replace with actual category ID\n",
    "products = requests.get(f\"{BASE_URL}/getAllProductByCategory\", params={\"category\": category_id})\n",
    "print(len(products.json()['data']))"
   ]
  },
  {
   "cell_type": "code",
   "execution_count": 77,
   "id": "129e1f97",
   "metadata": {},
   "outputs": [],
   "source": [
    "products_df = pd.DataFrame(products.json()['data'])"
   ]
  },
  {
   "cell_type": "code",
   "execution_count": 78,
   "id": "e744ed1a",
   "metadata": {},
   "outputs": [
    {
     "data": {
      "text/html": [
       "<div>\n",
       "<style scoped>\n",
       "    .dataframe tbody tr th:only-of-type {\n",
       "        vertical-align: middle;\n",
       "    }\n",
       "\n",
       "    .dataframe tbody tr th {\n",
       "        vertical-align: top;\n",
       "    }\n",
       "\n",
       "    .dataframe thead th {\n",
       "        text-align: right;\n",
       "    }\n",
       "</style>\n",
       "<table border=\"1\" class=\"dataframe\">\n",
       "  <thead>\n",
       "    <tr style=\"text-align: right;\">\n",
       "      <th></th>\n",
       "      <th>categoryId</th>\n",
       "      <th>currentPrice</th>\n",
       "      <th>discount</th>\n",
       "      <th>id</th>\n",
       "      <th>imgUrl</th>\n",
       "      <th>name</th>\n",
       "      <th>originalPrice</th>\n",
       "      <th>stock</th>\n",
       "    </tr>\n",
       "  </thead>\n",
       "  <tbody>\n",
       "    <tr>\n",
       "      <th>0</th>\n",
       "      <td>1</td>\n",
       "      <td>46999.0</td>\n",
       "      <td>59.13</td>\n",
       "      <td>1</td>\n",
       "      <td>https://images.tokopedia.net/img/cache/500-squ...</td>\n",
       "      <td>(BELI 2pcs DAPAT HADIAH) BITZEN Ikat Pinggang ...</td>\n",
       "      <td>115000.0</td>\n",
       "      <td>376</td>\n",
       "    </tr>\n",
       "    <tr>\n",
       "      <th>1</th>\n",
       "      <td>1</td>\n",
       "      <td>212000.0</td>\n",
       "      <td>0.00</td>\n",
       "      <td>16</td>\n",
       "      <td>https://images.tokopedia.net/img/cache/500-squ...</td>\n",
       "      <td>Anting Emas Asli Model Mrican Polos (Bisa buat...</td>\n",
       "      <td>0.0</td>\n",
       "      <td>241</td>\n",
       "    </tr>\n",
       "    <tr>\n",
       "      <th>2</th>\n",
       "      <td>1</td>\n",
       "      <td>130000.0</td>\n",
       "      <td>77.59</td>\n",
       "      <td>33</td>\n",
       "      <td>https://images.tokopedia.net/img/cache/500-squ...</td>\n",
       "      <td>BIDEN Jam Tangan Wanita Anggun Otomatis Date B...</td>\n",
       "      <td>580000.0</td>\n",
       "      <td>207</td>\n",
       "    </tr>\n",
       "    <tr>\n",
       "      <th>3</th>\n",
       "      <td>1</td>\n",
       "      <td>34999.0</td>\n",
       "      <td>53.33</td>\n",
       "      <td>34</td>\n",
       "      <td>https://images.tokopedia.net/img/cache/500-squ...</td>\n",
       "      <td>BITZEN Ikat Pinggang Pria Sabuk Kulit Gesper K...</td>\n",
       "      <td>75000.0</td>\n",
       "      <td>1713</td>\n",
       "    </tr>\n",
       "    <tr>\n",
       "      <th>4</th>\n",
       "      <td>1</td>\n",
       "      <td>36200.0</td>\n",
       "      <td>54.18</td>\n",
       "      <td>35</td>\n",
       "      <td>https://images.tokopedia.net/img/cache/500-squ...</td>\n",
       "      <td>BITZEN Ikat Pinggang Wanita Kulit Imitasi Slim...</td>\n",
       "      <td>79000.0</td>\n",
       "      <td>1079</td>\n",
       "    </tr>\n",
       "  </tbody>\n",
       "</table>\n",
       "</div>"
      ],
      "text/plain": [
       "   categoryId  currentPrice  discount  id  \\\n",
       "0           1       46999.0     59.13   1   \n",
       "1           1      212000.0      0.00  16   \n",
       "2           1      130000.0     77.59  33   \n",
       "3           1       34999.0     53.33  34   \n",
       "4           1       36200.0     54.18  35   \n",
       "\n",
       "                                              imgUrl  \\\n",
       "0  https://images.tokopedia.net/img/cache/500-squ...   \n",
       "1  https://images.tokopedia.net/img/cache/500-squ...   \n",
       "2  https://images.tokopedia.net/img/cache/500-squ...   \n",
       "3  https://images.tokopedia.net/img/cache/500-squ...   \n",
       "4  https://images.tokopedia.net/img/cache/500-squ...   \n",
       "\n",
       "                                                name  originalPrice  stock  \n",
       "0  (BELI 2pcs DAPAT HADIAH) BITZEN Ikat Pinggang ...       115000.0    376  \n",
       "1  Anting Emas Asli Model Mrican Polos (Bisa buat...            0.0    241  \n",
       "2  BIDEN Jam Tangan Wanita Anggun Otomatis Date B...       580000.0    207  \n",
       "3  BITZEN Ikat Pinggang Pria Sabuk Kulit Gesper K...        75000.0   1713  \n",
       "4  BITZEN Ikat Pinggang Wanita Kulit Imitasi Slim...        79000.0   1079  "
      ]
     },
     "execution_count": 78,
     "metadata": {},
     "output_type": "execute_result"
    }
   ],
   "source": [
    "products_df.head()"
   ]
  },
  {
   "cell_type": "markdown",
   "id": "2d81e451",
   "metadata": {},
   "source": [
    "Set the 'originalPrice' to be the same as 'currentPrice' if there is no discount."
   ]
  },
  {
   "cell_type": "code",
   "execution_count": 79,
   "id": "e65b08ab",
   "metadata": {},
   "outputs": [
    {
     "name": "stderr",
     "output_type": "stream",
     "text": [
      "/tmp/ipykernel_8617/1059371802.py:1: FutureWarning: ChainedAssignmentError: behaviour will change in pandas 3.0!\n",
      "You are setting values through chained assignment. Currently this works in certain cases, but when using Copy-on-Write (which will become the default behaviour in pandas 3.0) this will never work to update the original DataFrame or Series, because the intermediate object on which we are setting values will behave as a copy.\n",
      "A typical example is when you are setting values in a column of a DataFrame, like:\n",
      "\n",
      "df[\"col\"][row_indexer] = value\n",
      "\n",
      "Use `df.loc[row_indexer, \"col\"] = values` instead, to perform the assignment in a single step and ensure this keeps updating the original `df`.\n",
      "\n",
      "See the caveats in the documentation: https://pandas.pydata.org/pandas-docs/stable/user_guide/indexing.html#returning-a-view-versus-a-copy\n",
      "\n",
      "  products_df['originalPrice'][products_df['discount'] == 0.00] = products_df['currentPrice']\n",
      "/tmp/ipykernel_8617/1059371802.py:1: SettingWithCopyWarning: \n",
      "A value is trying to be set on a copy of a slice from a DataFrame\n",
      "\n",
      "See the caveats in the documentation: https://pandas.pydata.org/pandas-docs/stable/user_guide/indexing.html#returning-a-view-versus-a-copy\n",
      "  products_df['originalPrice'][products_df['discount'] == 0.00] = products_df['currentPrice']\n"
     ]
    }
   ],
   "source": [
    "products_df['originalPrice'][products_df['discount'] == 0.00] = products_df['currentPrice']"
   ]
  },
  {
   "cell_type": "code",
   "execution_count": 80,
   "id": "97624de4",
   "metadata": {},
   "outputs": [
    {
     "data": {
      "text/html": [
       "<div>\n",
       "<style scoped>\n",
       "    .dataframe tbody tr th:only-of-type {\n",
       "        vertical-align: middle;\n",
       "    }\n",
       "\n",
       "    .dataframe tbody tr th {\n",
       "        vertical-align: top;\n",
       "    }\n",
       "\n",
       "    .dataframe thead th {\n",
       "        text-align: right;\n",
       "    }\n",
       "</style>\n",
       "<table border=\"1\" class=\"dataframe\">\n",
       "  <thead>\n",
       "    <tr style=\"text-align: right;\">\n",
       "      <th></th>\n",
       "      <th>categoryId</th>\n",
       "      <th>currentPrice</th>\n",
       "      <th>discount</th>\n",
       "      <th>id</th>\n",
       "      <th>imgUrl</th>\n",
       "      <th>name</th>\n",
       "      <th>originalPrice</th>\n",
       "      <th>stock</th>\n",
       "    </tr>\n",
       "  </thead>\n",
       "  <tbody>\n",
       "    <tr>\n",
       "      <th>0</th>\n",
       "      <td>1</td>\n",
       "      <td>46999.0</td>\n",
       "      <td>59.13</td>\n",
       "      <td>1</td>\n",
       "      <td>https://images.tokopedia.net/img/cache/500-squ...</td>\n",
       "      <td>(BELI 2pcs DAPAT HADIAH) BITZEN Ikat Pinggang ...</td>\n",
       "      <td>115000.0</td>\n",
       "      <td>376</td>\n",
       "    </tr>\n",
       "    <tr>\n",
       "      <th>1</th>\n",
       "      <td>1</td>\n",
       "      <td>212000.0</td>\n",
       "      <td>0.00</td>\n",
       "      <td>16</td>\n",
       "      <td>https://images.tokopedia.net/img/cache/500-squ...</td>\n",
       "      <td>Anting Emas Asli Model Mrican Polos (Bisa buat...</td>\n",
       "      <td>212000.0</td>\n",
       "      <td>241</td>\n",
       "    </tr>\n",
       "    <tr>\n",
       "      <th>2</th>\n",
       "      <td>1</td>\n",
       "      <td>130000.0</td>\n",
       "      <td>77.59</td>\n",
       "      <td>33</td>\n",
       "      <td>https://images.tokopedia.net/img/cache/500-squ...</td>\n",
       "      <td>BIDEN Jam Tangan Wanita Anggun Otomatis Date B...</td>\n",
       "      <td>580000.0</td>\n",
       "      <td>207</td>\n",
       "    </tr>\n",
       "    <tr>\n",
       "      <th>3</th>\n",
       "      <td>1</td>\n",
       "      <td>34999.0</td>\n",
       "      <td>53.33</td>\n",
       "      <td>34</td>\n",
       "      <td>https://images.tokopedia.net/img/cache/500-squ...</td>\n",
       "      <td>BITZEN Ikat Pinggang Pria Sabuk Kulit Gesper K...</td>\n",
       "      <td>75000.0</td>\n",
       "      <td>1713</td>\n",
       "    </tr>\n",
       "    <tr>\n",
       "      <th>4</th>\n",
       "      <td>1</td>\n",
       "      <td>36200.0</td>\n",
       "      <td>54.18</td>\n",
       "      <td>35</td>\n",
       "      <td>https://images.tokopedia.net/img/cache/500-squ...</td>\n",
       "      <td>BITZEN Ikat Pinggang Wanita Kulit Imitasi Slim...</td>\n",
       "      <td>79000.0</td>\n",
       "      <td>1079</td>\n",
       "    </tr>\n",
       "  </tbody>\n",
       "</table>\n",
       "</div>"
      ],
      "text/plain": [
       "   categoryId  currentPrice  discount  id  \\\n",
       "0           1       46999.0     59.13   1   \n",
       "1           1      212000.0      0.00  16   \n",
       "2           1      130000.0     77.59  33   \n",
       "3           1       34999.0     53.33  34   \n",
       "4           1       36200.0     54.18  35   \n",
       "\n",
       "                                              imgUrl  \\\n",
       "0  https://images.tokopedia.net/img/cache/500-squ...   \n",
       "1  https://images.tokopedia.net/img/cache/500-squ...   \n",
       "2  https://images.tokopedia.net/img/cache/500-squ...   \n",
       "3  https://images.tokopedia.net/img/cache/500-squ...   \n",
       "4  https://images.tokopedia.net/img/cache/500-squ...   \n",
       "\n",
       "                                                name  originalPrice  stock  \n",
       "0  (BELI 2pcs DAPAT HADIAH) BITZEN Ikat Pinggang ...       115000.0    376  \n",
       "1  Anting Emas Asli Model Mrican Polos (Bisa buat...       212000.0    241  \n",
       "2  BIDEN Jam Tangan Wanita Anggun Otomatis Date B...       580000.0    207  \n",
       "3  BITZEN Ikat Pinggang Pria Sabuk Kulit Gesper K...        75000.0   1713  \n",
       "4  BITZEN Ikat Pinggang Wanita Kulit Imitasi Slim...        79000.0   1079  "
      ]
     },
     "execution_count": 80,
     "metadata": {},
     "output_type": "execute_result"
    }
   ],
   "source": [
    "products_df.head()"
   ]
  },
  {
   "cell_type": "code",
   "execution_count": 81,
   "id": "f6a57422",
   "metadata": {},
   "outputs": [
    {
     "data": {
      "text/plain": [
       "<pandas.core.groupby.generic.DataFrameGroupBy object at 0x7f90fdf176e0>"
      ]
     },
     "execution_count": 81,
     "metadata": {},
     "output_type": "execute_result"
    }
   ],
   "source": [
    "products_df.groupby('id')"
   ]
  },
  {
   "cell_type": "code",
   "execution_count": 82,
   "id": "5ab21d65",
   "metadata": {},
   "outputs": [
    {
     "name": "stdout",
     "output_type": "stream",
     "text": [
      "    categoryId  currentPrice  discount   id  \\\n",
      "0            1       46999.0     59.13    1   \n",
      "1            1      212000.0      0.00   16   \n",
      "2            1      130000.0     77.59   33   \n",
      "3            1       34999.0     53.33   34   \n",
      "4            1       36200.0     54.18   35   \n",
      "..         ...           ...       ...  ...   \n",
      "68           1        6500.0     67.50  374   \n",
      "69           1       28400.0     60.28  384   \n",
      "70           1        2900.0      0.00  401   \n",
      "71           1      369000.0     38.40  405   \n",
      "72           1      105000.0      0.00  410   \n",
      "\n",
      "                                               imgUrl  \\\n",
      "0   https://images.tokopedia.net/img/cache/500-squ...   \n",
      "1   https://images.tokopedia.net/img/cache/500-squ...   \n",
      "2   https://images.tokopedia.net/img/cache/500-squ...   \n",
      "3   https://images.tokopedia.net/img/cache/500-squ...   \n",
      "4   https://images.tokopedia.net/img/cache/500-squ...   \n",
      "..                                                ...   \n",
      "68  https://images.tokopedia.net/img/cache/500-squ...   \n",
      "69  https://images.tokopedia.net/img/cache/500-squ...   \n",
      "70  https://images.tokopedia.net/img/cache/500-squ...   \n",
      "71  https://images.tokopedia.net/img/cache/500-squ...   \n",
      "72  https://images.tokopedia.net/img/cache/500-squ...   \n",
      "\n",
      "                                                 name  originalPrice  stock  \n",
      "0   (BELI 2pcs DAPAT HADIAH) BITZEN Ikat Pinggang ...       115000.0    376  \n",
      "1   Anting Emas Asli Model Mrican Polos (Bisa buat...       212000.0    241  \n",
      "2   BIDEN Jam Tangan Wanita Anggun Otomatis Date B...       580000.0    207  \n",
      "3   BITZEN Ikat Pinggang Pria Sabuk Kulit Gesper K...        75000.0   1713  \n",
      "4   BITZEN Ikat Pinggang Wanita Kulit Imitasi Slim...        79000.0   1079  \n",
      "..                                                ...            ...    ...  \n",
      "68  WDS Kacamata Bingkai Kecil Wanita Retro Jepang...        20000.0   2865  \n",
      "69  Yarra Topi Pantai Outfit Korea Bucket Visor An...        71500.0   2097  \n",
      "70  cincin kartun lampu LED / mainan anak murah / ...         2900.0    153  \n",
      "71  itel Smartwatch O43 Max  watch 1.43 inch AMOLE...       599000.0   2710  \n",
      "72  tali ikat pinggang kulit asli lebar 3cm( hanya...       105000.0     20  \n",
      "\n",
      "[73 rows x 8 columns]\n"
     ]
    }
   ],
   "source": [
    "print(products_df)"
   ]
  },
  {
   "cell_type": "markdown",
   "id": "d00b688f",
   "metadata": {},
   "source": [
    "# Pre-process"
   ]
  },
  {
   "cell_type": "code",
   "execution_count": 83,
   "id": "6ad19c72",
   "metadata": {},
   "outputs": [],
   "source": [
    "cleaned_df = products_df.copy()"
   ]
  },
  {
   "cell_type": "code",
   "execution_count": 84,
   "id": "a5e8a20c",
   "metadata": {},
   "outputs": [],
   "source": [
    "cleaned_df['name'] = cleaned_df['name'].apply(preprocess_text)"
   ]
  },
  {
   "cell_type": "markdown",
   "id": "16ca6f70",
   "metadata": {},
   "source": [
    "# Feature Selection"
   ]
  },
  {
   "cell_type": "code",
   "execution_count": 85,
   "id": "dd731f44",
   "metadata": {},
   "outputs": [],
   "source": [
    "new_df = cleaned_df.drop(columns=['categoryId', 'id'])"
   ]
  },
  {
   "cell_type": "code",
   "execution_count": 86,
   "id": "00c4ec16",
   "metadata": {},
   "outputs": [],
   "source": [
    "new_df['name'] = new_df['name'].fillna('').str.lower()"
   ]
  },
  {
   "cell_type": "code",
   "execution_count": 87,
   "id": "91c3eded",
   "metadata": {},
   "outputs": [],
   "source": [
    "tfidf = TfidfVectorizer()\n",
    "\n",
    "name_features = tfidf.fit_transform(new_df['name'])"
   ]
  },
  {
   "cell_type": "code",
   "execution_count": 88,
   "id": "59da760d",
   "metadata": {},
   "outputs": [],
   "source": [
    "# Combine with scaled numerical features\n",
    "numerical_features = new_df[['currentPrice', 'originalPrice', 'discount', 'stock']].fillna(0)\n",
    "scaler = MinMaxScaler()\n",
    "scaled_numerical = scaler.fit_transform(numerical_features)"
   ]
  },
  {
   "cell_type": "code",
   "execution_count": 89,
   "id": "5d23b60a",
   "metadata": {},
   "outputs": [],
   "source": [
    "import scipy.sparse\n",
    "from scipy.sparse import hstack\n",
    "\n",
    "combined_features = hstack([name_features, scaled_numerical])"
   ]
  },
  {
   "cell_type": "code",
   "execution_count": 90,
   "id": "9af303dd",
   "metadata": {},
   "outputs": [],
   "source": [
    "cos_sim = cosine_similarity(combined_features)"
   ]
  },
  {
   "cell_type": "code",
   "execution_count": 91,
   "id": "d5d2a6ea",
   "metadata": {},
   "outputs": [
    {
     "data": {
      "text/plain": [
       "(73, 73)"
      ]
     },
     "execution_count": 91,
     "metadata": {},
     "output_type": "execute_result"
    }
   ],
   "source": [
    "cos_sim.shape"
   ]
  },
  {
   "cell_type": "markdown",
   "id": "190c0215",
   "metadata": {},
   "source": [
    "# Inference"
   ]
  },
  {
   "cell_type": "markdown",
   "id": "2e1fd802",
   "metadata": {},
   "source": [
    "### Test 1"
   ]
  },
  {
   "cell_type": "code",
   "execution_count": 92,
   "id": "92336453",
   "metadata": {},
   "outputs": [
    {
     "name": "stdout",
     "output_type": "stream",
     "text": [
      "Product: bitzen ikat pinggang pria sabuk kulit gesper klasik belt hitam\n"
     ]
    }
   ],
   "source": [
    "product_id = 34\n",
    "product_index = cleaned_df[cleaned_df['id'] == product_id].index[0]\n",
    "\n",
    "print(f\"Product: {cleaned_df[cleaned_df['id'] == product_id][\"name\"].values[0]}\")"
   ]
  },
  {
   "cell_type": "code",
   "execution_count": 93,
   "id": "7f3313a3",
   "metadata": {},
   "outputs": [
    {
     "name": "stdout",
     "output_type": "stream",
     "text": [
      "Product: guten inc belt ikat pinggang gesper sabuk kulit pria black, Similarity: 0.7396\n",
      "Product: bitzen ikat pinggang pria model rel sabuk gesper kulit sintetis bbelt, Similarity: 0.6929\n",
      "Product: bitzen ikat pinggang wanita kulit imitasi slim casual warna warni sesuai gesper belt outfit perempuan bbeltputih, Similarity: 0.5678\n",
      "Product: beli pcs hadiah bitzen ikat pinggang pria premium bahan aluminium zinc alloy nylon canvas sabuk hitam, Similarity: 0.5433\n",
      "Product: picalela ikat pinggang wanita kulit asli women fashion belt hitam, Similarity: 0.4844\n"
     ]
    }
   ],
   "source": [
    "# Get similarity scores for that product\n",
    "similarities = list(enumerate(cos_sim[product_index]))\n",
    "\n",
    "# Sort by similarity score (excluding itself)\n",
    "similar_products = sorted(similarities, key=lambda x: x[1], reverse=True)\n",
    "\n",
    "# Show top 5 similar products (excluding the original)\n",
    "top_similar = similar_products[1:6]  # skip index 0 (itself)\n",
    "\n",
    "# Print results\n",
    "for idx, score in top_similar:\n",
    "    print(f\"Product: {cleaned_df.iloc[idx]['name']}, Similarity: {score:.4f}\")"
   ]
  },
  {
   "cell_type": "markdown",
   "id": "5c4d7e45",
   "metadata": {},
   "source": [
    "### Test 2"
   ]
  },
  {
   "cell_type": "code",
   "execution_count": 94,
   "id": "2486afd9",
   "metadata": {},
   "outputs": [
    {
     "name": "stdout",
     "output_type": "stream",
     "text": [
      "Product: tali ikat pinggang kulit asli lebar jual tali\n"
     ]
    }
   ],
   "source": [
    "product_id = 410\n",
    "product_index = cleaned_df[cleaned_df['id'] == product_id].index[0]\n",
    "\n",
    "print(f\"Product: {cleaned_df[cleaned_df['id'] == product_id][\"name\"].values[0]}\")"
   ]
  },
  {
   "cell_type": "code",
   "execution_count": 95,
   "id": "7217c95f",
   "metadata": {},
   "outputs": [
    {
     "name": "stdout",
     "output_type": "stream",
     "text": [
      "Product: tali ikat pinggang model rel kulit sapi asli kepala cokelat, Similarity: 0.4106\n",
      "Product: picalela ikat pinggang wanita kulit asli women fashion belt hitam, Similarity: 0.3072\n",
      "Product: ikat pinggang kulit asli impor bruno cavalli sims gesper pria cokelat, Similarity: 0.2610\n",
      "Product: tali ikat pinggang rhodey canvas army military tactical abuabu, Similarity: 0.2193\n",
      "Product: gelang tali kam anak child anti lost strap m m anti hilang tali tali kam gandeng anak bayi child safety live biru bunda biru m, Similarity: 0.2012\n"
     ]
    }
   ],
   "source": [
    "# Get similarity scores for that product\n",
    "similarities = list(enumerate(cos_sim[product_index]))\n",
    "\n",
    "# Sort by similarity score (excluding itself)\n",
    "similar_products = sorted(similarities, key=lambda x: x[1], reverse=True)\n",
    "\n",
    "# Show top 5 similar products (excluding the original)\n",
    "top_similar = similar_products[1:6]  # skip index 0 (itself)\n",
    "\n",
    "# Print results\n",
    "for idx, score in top_similar:\n",
    "    print(f\"Product: {cleaned_df.iloc[idx]['name']}, Similarity: {score:.4f}\")"
   ]
  },
  {
   "cell_type": "markdown",
   "id": "34005a87",
   "metadata": {},
   "source": [
    "### Test 3"
   ]
  },
  {
   "cell_type": "code",
   "execution_count": 96,
   "id": "ab32b351",
   "metadata": {},
   "outputs": [
    {
     "name": "stdout",
     "output_type": "stream",
     "text": [
      "Product: wds kacamata bingkai wanita retro jepang korea ins eropa amerika gradient color optical glass f kc hitam\n"
     ]
    }
   ],
   "source": [
    "product_id = 374\n",
    "product_index = cleaned_df[cleaned_df['id'] == product_id].index[0]\n",
    "\n",
    "print(f\"Product: {cleaned_df[cleaned_df['id'] == product_id][\"name\"].values[0]}\")"
   ]
  },
  {
   "cell_type": "code",
   "execution_count": 97,
   "id": "5bfc5dcb",
   "metadata": {},
   "outputs": [
    {
     "name": "stdout",
     "output_type": "stream",
     "text": [
      "Product: kacamata korea kotak anti radiasi blueray photocromic in metal full black phtc normal, Similarity: 0.5070\n",
      "Product: gray pink kacamata sunglasses anti uv tr metal fashion wanita black blueray, Similarity: 0.4846\n",
      "Product: reckblud topi bisbol polos baseball simpel hitam unisex hitam, Similarity: 0.4842\n",
      "Product: kacamata hitam sunglasses colorein tr polarized retro style s black sunglases minus, Similarity: 0.4670\n",
      "Product: tali jam tangan wanita leather strap asli ukur mm black mm, Similarity: 0.4625\n"
     ]
    }
   ],
   "source": [
    "# Get similarity scores for that product\n",
    "similarities = list(enumerate(cos_sim[product_index]))\n",
    "\n",
    "# Sort by similarity score (excluding itself)\n",
    "similar_products = sorted(similarities, key=lambda x: x[1], reverse=True)\n",
    "\n",
    "# Show top 5 similar products (excluding the original)\n",
    "top_similar = similar_products[1:6]  # skip index 0 (itself)\n",
    "\n",
    "# Print results\n",
    "for idx, score in top_similar:\n",
    "    print(f\"Product: {cleaned_df.iloc[idx]['name']}, Similarity: {score:.4f}\")"
   ]
  },
  {
   "cell_type": "markdown",
   "id": "009e964e",
   "metadata": {},
   "source": [
    "# Search Engine Idea"
   ]
  },
  {
   "cell_type": "code",
   "execution_count": 98,
   "id": "422d7e69",
   "metadata": {},
   "outputs": [
    {
     "name": "stdout",
     "output_type": "stream",
     "text": [
      "Query: ikat pinggang\n",
      "    currentPrice  discount                                             imgUrl  \\\n",
      "0        46999.0     59.13  https://images.tokopedia.net/img/cache/500-squ...   \n",
      "3        34999.0     53.33  https://images.tokopedia.net/img/cache/500-squ...   \n",
      "4        36200.0     54.18  https://images.tokopedia.net/img/cache/500-squ...   \n",
      "7        25999.0     60.00  https://images.tokopedia.net/img/cache/500-squ...   \n",
      "22       46250.0     78.98  https://images.tokopedia.net/img/cache/500-squ...   \n",
      "\n",
      "                                                 name  originalPrice  stock  \n",
      "0   beli pcs hadiah bitzen ikat pinggang pria prem...       115000.0    376  \n",
      "3   bitzen ikat pinggang pria sabuk kulit gesper k...        75000.0   1713  \n",
      "4   bitzen ikat pinggang wanita kulit imitasi slim...        79000.0   1079  \n",
      "7   bitzen ikat pinggang pria model rel sabuk gesp...        65000.0    229  \n",
      "22  guten inc belt ikat pinggang gesper sabuk kuli...       220000.0      0  \n"
     ]
    }
   ],
   "source": [
    "# Convert query to lowercase to match preprocessed names\n",
    "query = \"ikat pinggang\".lower()\n",
    "\n",
    "# Find the index of the product that contains the query string\n",
    "matches = new_df[new_df['name'].str.contains(query, case=False, na=False)]\n",
    "print(f\"Query: {query}\")\n",
    "print(matches[:5])"
   ]
  },
  {
   "cell_type": "code",
   "execution_count": 99,
   "id": "6bea0140",
   "metadata": {},
   "outputs": [
    {
     "name": "stdout",
     "output_type": "stream",
     "text": [
      "    currentPrice  discount                                             imgUrl  \\\n",
      "1       212000.0       0.0  https://images.tokopedia.net/img/cache/500-squ...   \n",
      "34       35000.0       0.0  https://images.tokopedia.net/img/cache/500-squ...   \n",
      "\n",
      "                                                 name  originalPrice  stock  \n",
      "1   anting emas asli model mrican polos baby newbo...       212000.0    241  \n",
      "34  kalung anak titanium awet anti gatal anti irit...        35000.0     45  \n"
     ]
    }
   ],
   "source": [
    "# Convert query to lowercase to match preprocessed names\n",
    "query = \"anting\".lower()\n",
    "\n",
    "# Find the index of the product that contains the query string\n",
    "matches = new_df[new_df['name'].str.contains(query, case=False, na=False)]\n",
    "print(matches[:3])"
   ]
  },
  {
   "cell_type": "code",
   "execution_count": 100,
   "id": "41771fc3",
   "metadata": {},
   "outputs": [
    {
     "name": "stdout",
     "output_type": "stream",
     "text": [
      "    currentPrice  discount                                             imgUrl  \\\n",
      "2       130000.0     77.59  https://images.tokopedia.net/img/cache/500-squ...   \n",
      "30       70442.0     60.87  https://images.tokopedia.net/img/cache/500-squ...   \n",
      "31       86900.0     51.72  https://images.tokopedia.net/img/cache/500-squ...   \n",
      "\n",
      "                                                 name  originalPrice  stock  \n",
      "2   biden jam tangan wanita anggun otomatis date b...       580000.0    207  \n",
      "30  jam tangan wanita digital tali stainless skmei...       180000.0    174  \n",
      "31  jam tangan wanita digital tali stainless skmei...       180000.0    145  \n"
     ]
    }
   ],
   "source": [
    "# Convert query to lowercase to match preprocessed names\n",
    "query = \"jam tangan wanita\".lower()\n",
    "\n",
    "# Find the index of the product that contains the query string\n",
    "matches = new_df[new_df['name'].str.contains(query, case=False, na=False)]\n",
    "print(matches[:3])"
   ]
  }
 ],
 "metadata": {
  "kernelspec": {
   "display_name": "capstone_backend",
   "language": "python",
   "name": "python3"
  },
  "language_info": {
   "codemirror_mode": {
    "name": "ipython",
    "version": 3
   },
   "file_extension": ".py",
   "mimetype": "text/x-python",
   "name": "python",
   "nbconvert_exporter": "python",
   "pygments_lexer": "ipython3",
   "version": "3.12.7"
  }
 },
 "nbformat": 4,
 "nbformat_minor": 5
}
